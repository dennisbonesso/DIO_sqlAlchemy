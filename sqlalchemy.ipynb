{
  "nbformat": 4,
  "nbformat_minor": 0,
  "metadata": {
    "colab": {
      "provenance": [],
      "authorship_tag": "ABX9TyM2n+XpmGuXqn0ZdDFQWLBY",
      "include_colab_link": true
    },
    "kernelspec": {
      "name": "python3",
      "display_name": "Python 3"
    },
    "language_info": {
      "name": "python"
    }
  },
  "cells": [
    {
      "cell_type": "markdown",
      "metadata": {
        "id": "view-in-github",
        "colab_type": "text"
      },
      "source": [
        "<a href=\"https://colab.research.google.com/github/dennisbonesso/DIO_sqlAlchemy/blob/main/sqlalchemy.ipynb\" target=\"_parent\"><img src=\"https://colab.research.google.com/assets/colab-badge.svg\" alt=\"Open In Colab\"/></a>"
      ]
    },
    {
      "cell_type": "code",
      "source": [
        "import inspect\n",
        "\n",
        "from sqlalchemy.orm import declarative_base\n",
        "from sqlalchemy.orm import Session\n",
        "from sqlalchemy.orm import relationship\n",
        "from sqlalchemy import Column\n",
        "from sqlalchemy import Integer\n",
        "from sqlalchemy import String\n",
        "from sqlalchemy import ForeignKey\n",
        "from sqlalchemy import create_engine\n",
        "from sqlalchemy import inspect\n",
        "from sqlalchemy.sql.expression import select\n",
        "\n"
      ],
      "metadata": {
        "id": "IOdEkcu4K5op"
      },
      "execution_count": 58,
      "outputs": []
    },
    {
      "cell_type": "code",
      "source": [
        "Base = declarative_base()"
      ],
      "metadata": {
        "id": "3EvLuQhLAmeP"
      },
      "execution_count": 46,
      "outputs": []
    },
    {
      "cell_type": "code",
      "source": [
        "class User(Base):\n",
        "      __tablename__ = \"user_account\"\n",
        "      id = Column(Integer,primary_key=True)\n",
        "      name = Column(String)\n",
        "      fullname = Column(String)\n",
        "\n",
        "      address = relationship(\n",
        "          \"Address\", back_populates=\"user\",cascade=\"all, delete-orphan\"\n",
        "      )\n",
        "\n",
        "      def __repr__(self):\n",
        "          return f\"User(id={self.id},name={self.name},fullname={self.fullname})\"\n",
        "\n"
      ],
      "metadata": {
        "id": "VMsd4PHcH0dh"
      },
      "execution_count": 47,
      "outputs": []
    },
    {
      "cell_type": "code",
      "source": [
        "class Address(Base):\n",
        "      __tablename__ = \"address\"\n",
        "      id = Column(Integer,primary_key=True)\n",
        "      email_address = Column(String(30),nullable=False)\n",
        "      user_id=Column(Integer,ForeignKey(\"user_account.id\"),nullable=False)\n",
        "\n",
        "      user = relationship(\"User\",back_populates=\"address\")\n",
        "\n",
        "      def __repr__(self):\n",
        "          return f\"Address(id={self.id},email={self.email_address})\""
      ],
      "metadata": {
        "id": "XznBW1KzIhVL"
      },
      "execution_count": 48,
      "outputs": []
    },
    {
      "cell_type": "code",
      "source": [
        "print(User.__tablename__)\n",
        "print(Address.__tablename__)"
      ],
      "metadata": {
        "colab": {
          "base_uri": "https://localhost:8080/"
        },
        "id": "K_uVJD6xDrI7",
        "outputId": "f81742a9-e87e-4db6-a1df-3212c8f7a5b5"
      },
      "execution_count": 49,
      "outputs": [
        {
          "output_type": "stream",
          "name": "stdout",
          "text": [
            "user_account\n",
            "address\n"
          ]
        }
      ]
    },
    {
      "cell_type": "code",
      "source": [
        "engine = create_engine(\"sqlite://\")"
      ],
      "metadata": {
        "id": "r3VYFrJTKGeu"
      },
      "execution_count": 50,
      "outputs": []
    },
    {
      "cell_type": "code",
      "source": [
        "Base.metadata.create_all(engine)"
      ],
      "metadata": {
        "id": "CwWg1CEIKgwz"
      },
      "execution_count": 51,
      "outputs": []
    },
    {
      "cell_type": "code",
      "source": [
        "insp_engine = inspect(engine)"
      ],
      "metadata": {
        "id": "-qQGglIQMKxT"
      },
      "execution_count": 52,
      "outputs": []
    },
    {
      "cell_type": "code",
      "source": [
        "print(insp_engine.get_columns(\"user_account\")[0])"
      ],
      "metadata": {
        "colab": {
          "base_uri": "https://localhost:8080/"
        },
        "id": "jRleC_lRM3Mx",
        "outputId": "5fe85876-596a-453c-882b-63f9fe9da9b3"
      },
      "execution_count": 53,
      "outputs": [
        {
          "output_type": "stream",
          "name": "stdout",
          "text": [
            "{'name': 'id', 'type': INTEGER(), 'nullable': False, 'default': None, 'autoincrement': 'auto', 'primary_key': 1}\n"
          ]
        }
      ]
    },
    {
      "cell_type": "code",
      "source": [
        "print(insp_engine.default_schema_name)"
      ],
      "metadata": {
        "id": "EPIhsBQZO0ba",
        "colab": {
          "base_uri": "https://localhost:8080/"
        },
        "outputId": "a9cd5d99-8ce9-4f8c-cf54-83703325e79e"
      },
      "execution_count": 54,
      "outputs": [
        {
          "output_type": "stream",
          "name": "stdout",
          "text": [
            "main\n"
          ]
        }
      ]
    },
    {
      "cell_type": "code",
      "source": [
        "with Session(engine) as session:\n",
        "    dennis=User(\n",
        "        name='dennis',\n",
        "        fullname='dennis pires',\n",
        "        address=[Address(email_address='dennis@email.com')]\n",
        "    )"
      ],
      "metadata": {
        "id": "2k26eu64e4wH"
      },
      "execution_count": 55,
      "outputs": []
    },
    {
      "cell_type": "code",
      "source": [
        "session.add_all([dennis])"
      ],
      "metadata": {
        "id": "ELBC3pTliopP"
      },
      "execution_count": 56,
      "outputs": []
    },
    {
      "cell_type": "code",
      "source": [
        "session.commit()"
      ],
      "metadata": {
        "id": "HmUbqNphi3vk"
      },
      "execution_count": 57,
      "outputs": []
    },
    {
      "cell_type": "code",
      "source": [
        "stmt=select(User).where(User.name.in_(['dennis']))"
      ],
      "metadata": {
        "id": "8Zxw0G3ZjIzD"
      },
      "execution_count": 59,
      "outputs": []
    },
    {
      "cell_type": "code",
      "source": [
        "for user in session.scalars(stmt):\n",
        "  print(user)"
      ],
      "metadata": {
        "colab": {
          "base_uri": "https://localhost:8080/"
        },
        "id": "KpKNyQy4mu48",
        "outputId": "713c051c-5afb-4a57-8a54-e0dc90db1a8b"
      },
      "execution_count": 62,
      "outputs": [
        {
          "output_type": "stream",
          "name": "stdout",
          "text": [
            "User(id=1,name=dennis,fullname=dennis pires)\n"
          ]
        }
      ]
    },
    {
      "cell_type": "code",
      "source": [
        "stmt_address=select(Address).where(Address.id.in_([1]))"
      ],
      "metadata": {
        "id": "EgfWBF-vnhxB"
      },
      "execution_count": 63,
      "outputs": []
    },
    {
      "cell_type": "code",
      "source": [
        "for address in session.scalars(stmt_address):\n",
        "  print(address)"
      ],
      "metadata": {
        "colab": {
          "base_uri": "https://localhost:8080/"
        },
        "id": "mmsbTjawnxJB",
        "outputId": "4766141e-9f1d-4a9f-ce1e-793e4244fec4"
      },
      "execution_count": 64,
      "outputs": [
        {
          "output_type": "stream",
          "name": "stdout",
          "text": [
            "Address(id=1,email=dennis@email.com)\n"
          ]
        }
      ]
    },
    {
      "cell_type": "code",
      "source": [],
      "metadata": {
        "id": "1GygKBaIpCMP"
      },
      "execution_count": null,
      "outputs": []
    }
  ]
}