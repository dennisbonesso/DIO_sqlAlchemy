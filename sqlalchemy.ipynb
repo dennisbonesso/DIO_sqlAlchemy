{
  "nbformat": 4,
  "nbformat_minor": 0,
  "metadata": {
    "colab": {
      "provenance": [],
      "authorship_tag": "ABX9TyOdYqxlWk70XTp2XOHQE7cT",
      "include_colab_link": true
    },
    "kernelspec": {
      "name": "python3",
      "display_name": "Python 3"
    },
    "language_info": {
      "name": "python"
    }
  },
  "cells": [
    {
      "cell_type": "markdown",
      "metadata": {
        "id": "view-in-github",
        "colab_type": "text"
      },
      "source": [
        "<a href=\"https://colab.research.google.com/github/dennisbonesso/DIO_sqlAlchemy/blob/main/sqlalchemy.ipynb\" target=\"_parent\"><img src=\"https://colab.research.google.com/assets/colab-badge.svg\" alt=\"Open In Colab\"/></a>"
      ]
    },
    {
      "cell_type": "code",
      "execution_count": 1,
      "metadata": {
        "id": "7yvct9Q1AMXm"
      },
      "outputs": [],
      "source": [
        "\n",
        "from sqlalchemy.orm import declarative_base\n",
        "from sqlalchemy.orm import relationship\n",
        "from sqlalchemy import Column\n",
        "from sqlalchemy import Integer\n",
        "from sqlalchemy import String\n",
        "from sqlalchemy import ForeignKey"
      ]
    },
    {
      "cell_type": "code",
      "source": [
        "Base = declarative_base()"
      ],
      "metadata": {
        "id": "3EvLuQhLAmeP"
      },
      "execution_count": 2,
      "outputs": []
    },
    {
      "cell_type": "code",
      "source": [
        "class User(Base):\n",
        "      __tablename__ = \"user_account\"\n",
        "      id = Column(Integer,primary_key=True)\n",
        "      name = Column(String)\n",
        "      fullname = Column(String)\n",
        "\n",
        "      adress = relationship(\n",
        "          \"Address\", back_populates=\"user\",cascade=\"all, delete-orphan\"\n",
        "      )\n",
        "\n",
        "      def __repr__(self):\n",
        "          return f\"User(id={self.id},name={self.name},fullname={self.fullname})\"\n",
        "\n"
      ],
      "metadata": {
        "id": "VMsd4PHcH0dh"
      },
      "execution_count": 3,
      "outputs": []
    },
    {
      "cell_type": "code",
      "source": [
        "class Address(Base):\n",
        "      __tablename__ = \"address\"\n",
        "      id = Column(Integer,primary_key=True)\n",
        "      email_adress = Column(String(30),nullable=False)\n",
        "      user_id=Column(Integer,ForeignKey(\"user_account.id\"),nullable=False)\n",
        "\n",
        "      user = relationship(\"User\",back_populates=\"address\")\n",
        "\n",
        "      def __repr__(self):\n",
        "          return f\"Address(id={self.id},email={self.email_address})\""
      ],
      "metadata": {
        "id": "XznBW1KzIhVL"
      },
      "execution_count": 4,
      "outputs": []
    },
    {
      "cell_type": "code",
      "source": [
        "print(User.__tablename__)\n",
        "print(Address.__tablename__)"
      ],
      "metadata": {
        "colab": {
          "base_uri": "https://localhost:8080/"
        },
        "id": "K_uVJD6xDrI7",
        "outputId": "1a2665d4-aaf4-4591-b4d8-d7502e2c34c1"
      },
      "execution_count": 6,
      "outputs": [
        {
          "output_type": "stream",
          "name": "stdout",
          "text": [
            "user_account\n",
            "address\n"
          ]
        }
      ]
    }
  ]
}